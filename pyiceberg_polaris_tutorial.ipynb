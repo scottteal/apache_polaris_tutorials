{
 "cells": [
  {
   "cell_type": "code",
   "execution_count": 1,
   "metadata": {},
   "outputs": [],
   "source": [
    "from pyiceberg.catalog import load_catalog\n",
    "\n",
    "# If using Amazon S3 or Azure storage\n",
    "from pyiceberg.io.fsspec import FsspecFileIO\n",
    "\n",
    "# If using Google Cloud Storage\n",
    "from pyiceberg.io.pyarrow import PyArrowFileIO"
   ]
  },
  {
   "cell_type": "code",
   "execution_count": 2,
   "metadata": {},
   "outputs": [],
   "source": [
    "account = \"<your-account-locator>\"\n",
    "principal_client_id = \"<your-principal-client-id>\"\n",
    "principal_secret = \"<your-principal-secret>\""
   ]
  },
  {
   "cell_type": "code",
   "execution_count": 3,
   "metadata": {},
   "outputs": [],
   "source": [
    "catalog = load_catalog(\n",
    "    **{\n",
    "        \"type\": \"rest\",\n",
    "        \"header.X-Iceberg-Access-Delegation\": \"vended-credentials\",\n",
    "        \"uri\": f\"https://{account}.snowflakecomputing.com/polaris/api/catalog\",\n",
    "        \"credential\": f\"{principal_client_id}:{principal_secret}\",\n",
    "        \"warehouse\": \"<your-catalog-name>\",\n",
    "        \"scope\": \"PRINCIPAL_ROLE:data_engineer\",\n",
    "        \"token-refresh-enabled\": \"true\",\n",
    "        # Only one of below depending on your chosen object storage\n",
    "        # Amazon S3\n",
    "        \"py-io-impl\": \"pyiceberg.io.fsspec.FsspecFileIO\"\n",
    "        # Azure Storage\n",
    "        \"py-io-impl\": \"pyiceberg.io.fsspec.FsspecFileIO\"\n",
    "        # Google Cloud Storage\n",
    "        \"py-io-impl\": \"pyiceberg.io.pyarrow.PyArrowFileIO\"\n",
    "    }\n",
    ")"
   ]
  },
  {
   "cell_type": "code",
   "execution_count": 4,
   "metadata": {},
   "outputs": [],
   "source": [
    "# Define table schema\n",
    "from pyiceberg.schema import Schema\n",
    "from pyiceberg.types import NestedField, IntegerType, StringType"
   ]
  },
  {
   "cell_type": "code",
   "execution_count": 5,
   "metadata": {},
   "outputs": [],
   "source": [
    "schema = Schema(\n",
    "  NestedField(field_id=1, name='id', field_type=IntegerType(), required=True),\n",
    "  NestedField(field_id=2, name='name', field_type=StringType(), required=True),\n",
    "  NestedField(field_id=3, name='value', field_type=IntegerType(), required=True),\n",
    ")"
   ]
  },
  {
   "cell_type": "code",
   "execution_count": 6,
   "metadata": {},
   "outputs": [],
   "source": [
    "# Create namespace\n",
    "catalog.create_namespace_if_not_exists('demo_db')"
   ]
  },
  {
   "cell_type": "code",
   "execution_count": 7,
   "metadata": {},
   "outputs": [],
   "source": [
    "# Create table\n",
    "iceberg_table = catalog.create_table_if_not_exists(\n",
    "  identifier='demo_db.table_1',\n",
    "  schema=schema\n",
    ")"
   ]
  },
  {
   "cell_type": "code",
   "execution_count": null,
   "metadata": {},
   "outputs": [],
   "source": [
    "catalog.list_namespaces()"
   ]
  },
  {
   "cell_type": "code",
   "execution_count": null,
   "metadata": {},
   "outputs": [],
   "source": [
    "catalog.list_tables('demo_db')"
   ]
  },
  {
   "cell_type": "code",
   "execution_count": null,
   "metadata": {},
   "outputs": [],
   "source": [
    "iceberg_table.schema()"
   ]
  },
  {
   "cell_type": "code",
   "execution_count": 11,
   "metadata": {},
   "outputs": [],
   "source": [
    "\n",
    "import pyarrow as pa\n",
    "from pyiceberg.table import Table\n",
    "\n",
    "# Create the PyArrow table using the Iceberg table's schema\n",
    "pa_table_data = pa.Table.from_pylist([\n",
    "  {'id': 1, 'name': 'metric_1', 'value': 5},\n",
    "  {'id': 2, 'name': 'metric_2', 'value': 10},\n",
    "  {'id': 3, 'name': 'metric_1', 'value': 5},\n",
    "  {'id': 4, 'name': 'metric_2', 'value': 10},\n",
    "  {'id': 5, 'name': 'metric_1', 'value': 5}\n",
    "], schema=iceberg_table.schema().as_arrow())"
   ]
  },
  {
   "cell_type": "code",
   "execution_count": 12,
   "metadata": {},
   "outputs": [],
   "source": [
    "iceberg_table.append(\n",
    "  df=pa_table_data\n",
    ")"
   ]
  },
  {
   "cell_type": "code",
   "execution_count": null,
   "metadata": {},
   "outputs": [],
   "source": [
    "iceberg_table.scan().to_arrow()"
   ]
  },
  {
   "cell_type": "code",
   "execution_count": 17,
   "metadata": {},
   "outputs": [],
   "source": [
    "import pyarrow as pa\n",
    "from pyiceberg.expressions import EqualTo\n",
    "\n",
    "# Query for the row to update.\n",
    "id_1_tbl = iceberg_table \\\n",
    "  .scan(row_filter=EqualTo('id', 1)) \\\n",
    "  .to_arrow()\n",
    "\n",
    "# Determine the index of the value column and retrieve the column's field\n",
    "value_column_index = id_1_tbl.column_names.index('value')\n",
    "value_column_field = id_1_tbl.field(value_column_index)\n",
    "\n",
    "# Modify the resulting PyArrow table by replacing the value column\n",
    "id_1_tbl = id_1_tbl.set_column(\n",
    "  value_column_index, \n",
    "  value_column_field, \n",
    "  pa.array([15], type=pa.int32()) # Ensure the data types align\n",
    ")\n",
    "\n",
    "# Update the Iceberg table by overwriting the row\n",
    "iceberg_table.overwrite(\n",
    "  df=id_1_tbl,\n",
    "  overwrite_filter=EqualTo('id', 1)\n",
    ")"
   ]
  },
  {
   "cell_type": "code",
   "execution_count": null,
   "metadata": {},
   "outputs": [],
   "source": [
    "iceberg_table.scan().to_arrow()"
   ]
  },
  {
   "cell_type": "code",
   "execution_count": 19,
   "metadata": {},
   "outputs": [],
   "source": [
    "from pyiceberg.expressions import EqualTo\n",
    "\n",
    "iceberg_table.delete(\n",
    "  delete_filter=EqualTo('id', 1)\n",
    ")"
   ]
  },
  {
   "cell_type": "code",
   "execution_count": null,
   "metadata": {},
   "outputs": [],
   "source": [
    "iceberg_table.scan().to_arrow()"
   ]
  },
  {
   "cell_type": "code",
   "execution_count": 27,
   "metadata": {},
   "outputs": [],
   "source": [
    "with iceberg_table.update_schema() as update:\n",
    "    # Rename value to measure\n",
    "    update.rename_column(\"value\", \"measure\")"
   ]
  },
  {
   "cell_type": "code",
   "execution_count": null,
   "metadata": {},
   "outputs": [],
   "source": [
    "iceberg_table.scan().to_arrow()"
   ]
  }
 ],
 "metadata": {
  "kernelspec": {
   "display_name": "pyiceberg_demo_311",
   "language": "python",
   "name": "python3"
  },
  "language_info": {
   "codemirror_mode": {
    "name": "ipython",
    "version": 3
   },
   "file_extension": ".py",
   "mimetype": "text/x-python",
   "name": "python",
   "nbconvert_exporter": "python",
   "pygments_lexer": "ipython3",
   "version": "3.11.10"
  }
 },
 "nbformat": 4,
 "nbformat_minor": 2
}
